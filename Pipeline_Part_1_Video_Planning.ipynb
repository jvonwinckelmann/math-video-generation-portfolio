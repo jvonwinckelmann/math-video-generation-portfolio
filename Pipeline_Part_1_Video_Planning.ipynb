{
 "cells": [
  {
   "cell_type": "markdown",
   "metadata": {},
   "source": [
    "## Video Planning (Chain of Judge)"
   ]
  },
  {
   "cell_type": "markdown",
   "metadata": {},
   "source": [
    "In diesem Projekt greifen wir auf ein neues Konzept zurück, um die Qualität und Effizienz von Lösungen zu verbessern. Wir nutzen zwei Sprachmodelle, einen Generator und einen Critic, um eine Feedback-Schleife zu bilden. Diese Methode basiert auf der sogenannten Self-Consistency mit Feedback-Schleife oder Critic-and-Generator-Framework, die es ermöglicht, sowohl die Qualität der Lösung als auch ihre Erklärbarkeit zu erhöhen.\n",
    "\n",
    "\n",
    "Der Generator-Modell erstellt eine Lösung und gibt dabei durch Chain-of-Thought Prompting eine schrittweise Erklärung ab. Der Critic-Modell bewertet den Vorschlag des Generators und identifiziert mögliche Schwächen oder Fehler. Dieser Prozess wiederholt sich in einer Feedback-Schleife, wodurch der Generator seine Lösung kontinuierlich verbessern kann.\n",
    "\n",
    "\n",
    "Diese innovative Methode bietet mehrere Vorteile: Sie ermöglicht eine Qualitätskontrolle durch den Critic, schrittweise Optimierung des Generators und erhöhte Erklärbarkeit durch Chain-of-Thought-Prompting. Darüber hinaus ist sie flexibel und anpassbar für verschiedene Aufgaben und Anwendungsfälle.\n",
    "\n",
    "\n",
    "In den folgenden Abschnitten wird aufgezeigt, wie diese Methode umgesetzt wird und welche Vorteile sie bietet. Wir werden uns auf die Implementierung des Generators und Critic-Modells konzentrieren, sowie auf die Ergebnisse der Feedback-Schleife und die daraus gewonnenen Erkenntnisse."
   ]
  },
  {
   "cell_type": "markdown",
   "metadata": {},
   "source": [
    "### Aufgabe\n",
    "\n",
    "Zeichne den Punkt P(4|6) in ein Koordinatensystem ein.\n",
    "\n",
    "### Soll Lösung\n",
    "\n",
    "1. Zeichne ein Koordinatensystem mit einer x-Achse und einer y-Achse, damit beide der Punkt im Koordinatensystem liegt <br>\n",
    "\t\tAchte darauf, die Achsen zu beschriften und eine regelmäßige Skalierung zu verwenden. <br>\n",
    "2. Markiere den Ursprung (0, 0) des Koordinatensystems deutlich.<br>\n",
    "3. Zeichne einen Vektor in x-Richtung, der von (0, 0) bis zum X Punkt reicht (x,  0). <br>\n",
    "\t\tNutze eine klare Farbe wie Rot, um diesen Vektor zu kennzeichnen. <br>\n",
    "4. Zeichne einen Vektor in y-Richtung, der von (0, 0) bis zum Y Punkt reicht (0, y). <br>\n",
    "\t\tVerwende eine andere Farbe, z. B. Grün. <br>\n",
    "5. Verschiebe den y-Richtungs-Vektor so, dass sein Startpunkt das Ende des x-Richtungs-Vektors bei (x, 0) ist. <br>\n",
    "6. Der Endpunkt dieses verschobenen Vektors markiert die Koordinaten (x, y).  <br>\n",
    "\t\tZeichne einen Punkt an dieser Stelle und beschrifte ihn mit 'P({x-Wert}|{y-Wert})'. <br>\n",
    "7. Füge ggf. Beschriftungen oder zusätzliche Hinweise hinzu, um die Schritte der Konstruktion verständlicher zu machen. <br>"
   ]
  },
  {
   "cell_type": "code",
   "execution_count": 1,
   "metadata": {},
   "outputs": [],
   "source": [
    "# OpenAI Client für Ollama\n",
    "from openai import OpenAI\n",
    "\n",
    "# VectorDB\n",
    "import chromadb\n",
    "from sentence_transformers import SentenceTransformer\n",
    "\n",
    "# Utility\n",
    "import json"
   ]
  },
  {
   "cell_type": "code",
   "execution_count": 2,
   "metadata": {},
   "outputs": [],
   "source": [
    "# ChromaDB initialisieren\n",
    "chroma_client = chromadb.PersistentClient(path=\"vectordb\")\n",
    "\n",
    "# Sentence Transformer initialisieren\n",
    "dimensions = 1024\n",
    "model = SentenceTransformer(\n",
    "    \"mixedbread-ai/deepset-mxbai-embed-de-large-v1\", truncate_dim=dimensions\n",
    ")\n",
    "\n",
    "# Verbindung zum Ollama-Server herstellen\n",
    "client = OpenAI(\n",
    "    base_url=\"http://localhost:11434/v1\",\n",
    "    api_key=\"ollama\",\n",
    ")"
   ]
  },
  {
   "cell_type": "markdown",
   "metadata": {},
   "source": [
    "### Collection laden oder initialisieren\n",
    "\n",
    "Wenn die Collection noch nicht existiert, wird sie hier einmalig und persistent erstellt und mit Daten gefüllt."
   ]
  },
  {
   "cell_type": "code",
   "execution_count": 3,
   "metadata": {},
   "outputs": [
    {
     "data": {
      "text/plain": [
       "['serlo_collection']"
      ]
     },
     "execution_count": 3,
     "metadata": {},
     "output_type": "execute_result"
    }
   ],
   "source": [
    "# Check for existing collections\n",
    "existing_collections = chroma_client.list_collections()\n",
    "existing_collections"
   ]
  },
  {
   "cell_type": "code",
   "execution_count": 4,
   "metadata": {},
   "outputs": [],
   "source": [
    "# Serlo Collection von persistierter ChromaDB laden\n",
    "collection_name = \"serlo_collection\"\n",
    "\n",
    "if collection_name not in existing_collections:\n",
    "    serlo_data = {}\n",
    "\n",
    "    with open(\"Experiments/RAG/serlo_data.json\", \"r\") as f:\n",
    "        serlo_data = json.load(f)\n",
    "\n",
    "    collection = chroma_client.create_collection(collection_name)\n",
    "\n",
    "    # Add content chunks to vector database\n",
    "    for i, article_url in enumerate(serlo_data[\"article_urls\"]):\n",
    "        content_chunks = serlo_data[\"content_chunks\"][i]\n",
    "\n",
    "        embeddings = model.encode(content_chunks)\n",
    "\n",
    "        collection.add(\n",
    "            documents=content_chunks,\n",
    "            embeddings=embeddings,\n",
    "            metadatas=[{\"source\": article_url} for _ in content_chunks],\n",
    "            ids=[\n",
    "                str(article_url.split(\"/\")[-1]) + \"_\" + str(i)\n",
    "                for i, _ in enumerate(content_chunks)\n",
    "            ],\n",
    "        )\n",
    "else:\n",
    "    collection = chroma_client.get_collection(collection_name)"
   ]
  },
  {
   "cell_type": "code",
   "execution_count": 5,
   "metadata": {},
   "outputs": [],
   "source": [
    "def retrieve_additional_context(task_description, n_results=3):\n",
    "    query_embedding = model.encode([task_description])\n",
    "\n",
    "    # Retrieval Schritt\n",
    "    results = collection.query(\n",
    "        query_embeddings=query_embedding, n_results=n_results, include=[\"documents\"]\n",
    "    )\n",
    "\n",
    "    for documents in results[\"documents\"]:\n",
    "        context = \"Kontext:\\n\"\n",
    "        context += \"\\n\\nKontext:\\n\".join(documents)\n",
    "\n",
    "    return context"
   ]
  },
  {
   "cell_type": "code",
   "execution_count": 6,
   "metadata": {},
   "outputs": [],
   "source": [
    "# Generator-Modell\n",
    "def generate_visual_steps(task_description, use_rag=False):\n",
    "    response = client.chat.completions.create(\n",
    "        model=\"phi4\",\n",
    "        messages=[\n",
    "            {\n",
    "                \"role\": \"system\",\n",
    "                \"content\": (\n",
    "                    \"Du bist ein Sprachmodell, das Mathematikaufgaben in präzise, nummerierte Schritte zerlegt, \"\n",
    "                    \"die leicht visuell dargestellt werden können. Gib die Antwort als eine Schritt-für-Schritt-Liste zurück, \"\n",
    "                    \"beginnend mit '1.', '2.', usw. Jede Nummer sollte einen klar definierten Schritt enthalten.\"\n",
    "                ),\n",
    "            },\n",
    "            {\n",
    "                \"role\": \"user\",\n",
    "                \"content\": retrieve_additional_context(task_description, n_results=3)\n",
    "                + \"\\n\\nAufgabenbeschreibung: \"\n",
    "                + task_description\n",
    "                if use_rag\n",
    "                else task_description,\n",
    "            },\n",
    "        ],\n",
    "    )\n",
    "    return response.choices[0].message.content"
   ]
  },
  {
   "cell_type": "code",
   "execution_count": 7,
   "metadata": {},
   "outputs": [],
   "source": [
    "# Bewertungsmodell\n",
    "def evaluate_solution(task_description, generated_solution):\n",
    "    response = client.chat.completions.create(\n",
    "        model=\"phi4\",\n",
    "        messages=[\n",
    "            {\n",
    "                \"role\": \"system\",\n",
    "                \"content\": (\n",
    "                    \"Du bist ein Sprachmodell, das Lösungen für Mathematikaufgaben bewertet. \"\n",
    "                    \"Bewerte die Lösung nicht nur auf Korrektheit, sondern auch darauf, ob sie die folgenden Kriterien erfüllt:\\n\"\n",
    "                    \"1. Die Lösung muss als nummerierte Schritt-für-Schritt-Anleitung vorliegen.\\n\"\n",
    "                    \"2. Die Schritte müssen klar und präzise formuliert sein.\\n\"\n",
    "                    \"3. Begriffe wie 'Koordinatensystem', 'x-Achse', 'y-Achse', 'Vektor' sollten verwendet werden, \"\n",
    "                    \"wenn sie für die Aufgabe relevant sind.\\n\"\n",
    "                    \"Antworte mit einer kurzen Bewertung und sage klar, ob die Lösung akzeptiert wird oder nicht.\"\n",
    "                ),\n",
    "            },\n",
    "            {\n",
    "                \"role\": \"user\",\n",
    "                \"content\": f\"Aufgabe:\\n{task_description}\\n\\nLösung:\\n{generated_solution}\",\n",
    "            },\n",
    "        ],\n",
    "    )\n",
    "    return response.choices[0].message.content"
   ]
  },
  {
   "cell_type": "code",
   "execution_count": 8,
   "metadata": {},
   "outputs": [],
   "source": [
    "# Chain-of-Judge\n",
    "def interactive_solution(task_description, max_iterations=2, use_rag=False):\n",
    "    iteration = 0\n",
    "    solution = generate_visual_steps(task_description, use_rag)\n",
    "    final_solution = None\n",
    "    print(f\"Iteration {iteration + 1} - Generierte Lösung:\\n{solution}\")\n",
    "\n",
    "    while iteration < max_iterations:\n",
    "        evaluation = evaluate_solution(task_description, solution)\n",
    "        print(f\"Iteration {iteration + 1} - Bewertung der Lösung:\\n{evaluation}\")\n",
    "\n",
    "        if \"akzeptiert\" in evaluation.lower() and \"nummeriert\" in evaluation.lower():\n",
    "            print(\"Lösung akzeptiert!\")\n",
    "            final_solution = solution\n",
    "            break\n",
    "        else:\n",
    "            iteration += 1\n",
    "            if iteration < max_iterations:\n",
    "                print(f\"Neue Iteration {iteration + 1}: Verbesserung der Lösung...\")\n",
    "                solution = generate_visual_steps(task_description, use_rag)\n",
    "                print(\n",
    "                    f\"Iteration {iteration + 1} - Neue generierte Lösung:\\n{solution}\"\n",
    "                )\n",
    "            else:\n",
    "                print(\n",
    "                    \"Maximale Anzahl an Iterationen erreicht. Keine weiteren Verbesserungen möglich.\"\n",
    "                )\n",
    "\n",
    "    if final_solution is None:\n",
    "        final_solution = solution\n",
    "    return final_solution"
   ]
  },
  {
   "cell_type": "markdown",
   "metadata": {},
   "source": [
    "### Videoplan generieren"
   ]
  },
  {
   "cell_type": "markdown",
   "metadata": {},
   "source": [
    "In der Theorie kann die Pipeline mit jeder möglichen Matheaufgabe oder Thema verwendet werden. Praktisch werden Aufgaben mit Bezug zur Geometrie wohl bessere Ergebnisse liefern. Einige mögliche Aufgaben finden sich hier: https://de.serlo.org/mathe/1288/geometrie"
   ]
  },
  {
   "cell_type": "code",
   "execution_count": 9,
   "metadata": {},
   "outputs": [
    {
     "name": "stdout",
     "output_type": "stream",
     "text": [
      "Iteration 1 - Generierte Lösung:\n",
      "Um das Dreieck mit den Eckpunkten \\( A(1, 1) \\), \\( B(5, 1) \\), und \\( C(3, 4) \\) in ein Koordinatensystem zu zeichnen, folgen Sie diesen detaillierten Schritten:\n",
      "\n",
      "1. **Stellen des Koordinatensystems auf**:  \n",
      "   - Zeichnen Sie zwei Perpendikel schneidende Achsen: eine vertikale (y-Achse) und eine horizontale (x-Achse).\n",
      "   - Fügen Sie Pfeile bei jedem Ende der Achsen an, um die positive Richtung zu zeigen. Die y-Achse zeigt nach oben und die x-Achse zeigt nach rechts.\n",
      "\n",
      "2. **Beschriften der Achsen**:  \n",
      "   - Beschriften Sie die y-Achse mit \"yyy\".\n",
      "   - Beschriften Sie die x-Achse mit \"xxx\".\n",
      "\n",
      "3. **Einheiten markieren**:\n",
      "   - Wählen Sie eine Skalierung, bei der zwei Kästchen (oder Einheiten) eine Zeile oder Spalte ausmachen.\n",
      "   - Verwenden Sie gerade Striche an jeder Achse, um die Einheiten zu markieren.\n",
      "\n",
      "4. **Setzen des Ursprungs**:  \n",
      "   - Kennzeichnen Sie den Schnittpunkt der x- und y-Achsen als \\( O \\).\n",
      "\n",
      "5. **Einzeln die Punkte einzeichnen**:\n",
      "   - Erstellen Sie ein Kreuz oder einen Punkt bei \\( A(1, 1) \\). Bewegen Sie sich ein Einheitsintervall nach rechts von \\( O \\) entlang der x-Achse und dann eines Einheitsintervall aufwärts entlang der y-Achse.\n",
      "   - Zeichnen und beschriften Sie bei diesem Punkt einen Punkt als \\( A \\).\n",
      "\n",
      "   - Erstellen Sie ein Kreuz oder Punkte für den nächsten Punkt \\( B(5, 1) \\). Bewegen Sie sich fünf Einheitsintervalle nach rechts von \\( O \\) entlang der x-Achse und dann kein Einheitsintervall über die y-Achse.\n",
      "   - Zeichnen und beschriften Sie diesen Punkt als \\( B \\).\n",
      "\n",
      "   - Erstellen Sie einen weiteren Kreuz oder Punkte für den letzten Eckpunkt \\( C(3, 4) \\). Bewegen Sie sich drei Einheiten nach rechts von \\( O \\) entlang der x-Achse.\n",
      "     Bewegen Sie sich dann vier Einheiten nach oben entlang der y-Achse.\n",
      "   - Zeichnen und beschriften Sie diesen Punkt als \\( C \\).\n",
      "\n",
      "6. **Koordinaten verbinden**:\n",
      "   - Ziehen Sie eine Linie von \\( A(1, 1) \\) zu \\( B(5, 1) \\).\n",
      "   - Verbinden Sie dann \\( B(5, 1) \\) mit \\( C(3, 4) \\) durch eine Linie.\n",
      "   - Schließlich ziehen Sie eine Linie von \\( C(3, 4) \\) zurück zu \\( A(1, 1) \\).\n",
      "\n",
      "Durch das Folgen dieser Schritte haben Sie erfolgreich das Dreieck konstruiert und es in ein Koordinatensystem eingezeichnet.\n",
      "Iteration 1 - Bewertung der Lösung:\n",
      "**Bewertung der Lösung:**\n",
      "\n",
      "Die gegebene Lösung erfüllt die folgenden Kriterien:\n",
      "\n",
      "1. **Nummerierte Schritt-für-Schritt-Anleitung**: Die Antwort ist klar nummeriert, um einen logischen und methodischen Ablauf zu ermöglichen.\n",
      "\n",
      "2. **Klarheit und Präzision der Formulierung**:\n",
      "   - Jeder Schritt wird einzeln beschrieben.\n",
      "   - Verwendung intuitiver Anweisungen für das Zeichnen des Koordinatensystems und Beschriften der Achsen.\n",
      "   - Detaillierte Anleitung zum Markieren, Platzieren, und Beschriften der spezifischen Punkte.\n",
      "\n",
      "3. **Verwendung relevanter Begriffe**:\n",
      "   - Klare Verweise auf \"Koordinatensystem\", \"x-Achse\" und \"y-Achse\".\n",
      "   - Es wird beschrieben, wie die Bewegungen entlang der Achsen ablaufen, um die Punkte zu platzieren.\n",
      "\n",
      "Die Lösung deckt alle wesentlichen Aspekte des Zeichnens eines Dreiecks in einem Koordinatensystem ab und folgt den geforderten Kriterien. Sie ist damit vollständig akzeptabel.\n",
      "\n",
      "**Entscheidung**:  \n",
      "Die Lösung wird akzeptiert.\n",
      "Lösung akzeptiert!\n"
     ]
    }
   ],
   "source": [
    "# Beispielaufgaben\n",
    "task_description = \"Zeichne das Dreieck mit den Eckpunkten A(1|1), B(5|1), und C(3|4) in ein Koordinatensystem. Beschrifte die Punkte und verbinde sie.\" # Am meisten getestet\n",
    "# task_description = \"Zeichne den Punkt P(4|6) in ein Koordinatensystem ein.\"\n",
    "# task_description = \"Zeichne die Gerade durch die Punkte A(1|2) und B(4|5) in ein Koordinatensystem.\"\n",
    "\n",
    "# Ablauf mit maximal 2 Iterationen starten\n",
    "final_solution = interactive_solution(task_description, max_iterations=2, use_rag=True)"
   ]
  },
  {
   "cell_type": "code",
   "execution_count": 10,
   "metadata": {},
   "outputs": [
    {
     "data": {
      "text/plain": [
       "'Um das Dreieck mit den Eckpunkten \\\\( A(1, 1) \\\\), \\\\( B(5, 1) \\\\), und \\\\( C(3, 4) \\\\) in ein Koordinatensystem zu zeichnen, folgen Sie diesen detaillierten Schritten:\\n\\n1. **Stellen des Koordinatensystems auf**:  \\n   - Zeichnen Sie zwei Perpendikel schneidende Achsen: eine vertikale (y-Achse) und eine horizontale (x-Achse).\\n   - Fügen Sie Pfeile bei jedem Ende der Achsen an, um die positive Richtung zu zeigen. Die y-Achse zeigt nach oben und die x-Achse zeigt nach rechts.\\n\\n2. **Beschriften der Achsen**:  \\n   - Beschriften Sie die y-Achse mit \"yyy\".\\n   - Beschriften Sie die x-Achse mit \"xxx\".\\n\\n3. **Einheiten markieren**:\\n   - Wählen Sie eine Skalierung, bei der zwei Kästchen (oder Einheiten) eine Zeile oder Spalte ausmachen.\\n   - Verwenden Sie gerade Striche an jeder Achse, um die Einheiten zu markieren.\\n\\n4. **Setzen des Ursprungs**:  \\n   - Kennzeichnen Sie den Schnittpunkt der x- und y-Achsen als \\\\( O \\\\).\\n\\n5. **Einzeln die Punkte einzeichnen**:\\n   - Erstellen Sie ein Kreuz oder einen Punkt bei \\\\( A(1, 1) \\\\). Bewegen Sie sich ein Einheitsintervall nach rechts von \\\\( O \\\\) entlang der x-Achse und dann eines Einheitsintervall aufwärts entlang der y-Achse.\\n   - Zeichnen und beschriften Sie bei diesem Punkt einen Punkt als \\\\( A \\\\).\\n\\n   - Erstellen Sie ein Kreuz oder Punkte für den nächsten Punkt \\\\( B(5, 1) \\\\). Bewegen Sie sich fünf Einheitsintervalle nach rechts von \\\\( O \\\\) entlang der x-Achse und dann kein Einheitsintervall über die y-Achse.\\n   - Zeichnen und beschriften Sie diesen Punkt als \\\\( B \\\\).\\n\\n   - Erstellen Sie einen weiteren Kreuz oder Punkte für den letzten Eckpunkt \\\\( C(3, 4) \\\\). Bewegen Sie sich drei Einheiten nach rechts von \\\\( O \\\\) entlang der x-Achse.\\n     Bewegen Sie sich dann vier Einheiten nach oben entlang der y-Achse.\\n   - Zeichnen und beschriften Sie diesen Punkt als \\\\( C \\\\).\\n\\n6. **Koordinaten verbinden**:\\n   - Ziehen Sie eine Linie von \\\\( A(1, 1) \\\\) zu \\\\( B(5, 1) \\\\).\\n   - Verbinden Sie dann \\\\( B(5, 1) \\\\) mit \\\\( C(3, 4) \\\\) durch eine Linie.\\n   - Schließlich ziehen Sie eine Linie von \\\\( C(3, 4) \\\\) zurück zu \\\\( A(1, 1) \\\\).\\n\\nDurch das Folgen dieser Schritte haben Sie erfolgreich das Dreieck konstruiert und es in ein Koordinatensystem eingezeichnet.'"
      ]
     },
     "execution_count": 10,
     "metadata": {},
     "output_type": "execute_result"
    }
   ],
   "source": [
    "final_solution"
   ]
  },
  {
   "cell_type": "markdown",
   "metadata": {},
   "source": [
    "### Videoplan speichern"
   ]
  },
  {
   "cell_type": "code",
   "execution_count": 11,
   "metadata": {},
   "outputs": [],
   "source": [
    "# Übersetzungsmodell\n",
    "def translate_solution(generated_solution):\n",
    "    response = client.chat.completions.create(\n",
    "        model=\"phi4\",\n",
    "        messages=[\n",
    "            {\n",
    "                \"role\": \"system\",\n",
    "                \"content\": (\n",
    "                    \"Du bist ein Sprachmodell, das Videopläne ins Englische übersetzt.\"\n",
    "                    \"Übersetze nur den dir gegebenen Text und füge keine eigenen Informationen hinzu.\"\n",
    "                ),\n",
    "            },\n",
    "            {\n",
    "                \"role\": \"user\",\n",
    "                \"content\": f\"Videoplan:\\n{generated_solution}\\n\\nÜbersetzung:\",\n",
    "            },\n",
    "        ],\n",
    "    )\n",
    "    return response.choices[0].message.content"
   ]
  },
  {
   "cell_type": "code",
   "execution_count": 12,
   "metadata": {},
   "outputs": [
    {
     "data": {
      "text/plain": [
       "'Video Plan:\\nUm das Dreieck mit den Punkten \\\\( A(1, 1) \\\\), \\\\( B(5, 1) \\\\), und \\\\( C(3, 4) \\\\) in ein Koordinatensystem zu zeichnen, folgen Sie diesen detaillierten Schritten:\\n\\n1. **Koordinatensystem aufstellen**:  \\n   - Zeichnen Sie zwei senkrecht zueinander stehende Achsen: eine vertikale (y-Achse) und eine horizontale (x-Achse).\\n   - Setzen Sie Pfeile an den Enden der Achsen, um die positive Richtung zu zeigen. Bei der y-Achse zeigt der Pfeil nach oben und bei der x-Achse nach rechts.\\n\\n2. **Achsen beschriften**:  \\n   - Beschriften Sie die y-Achse mit \"yyy\".\\n   - Beschriften Sie die x-Achse mit \"xxx\".\\n\\n3. **Einheiten markieren**:\\n   - Wählen Sie eine Skalierung, bei der zwei Kästchen (oder Einheiten) eine Zeile oder Spalte ausmachen.\\n   - Verwenden Sie gerade Striche an jeder Achse, um die Einheiten zu markieren.\\n\\n4. **Ursprung setzen**:  \\n   - Kennzeichnen Sie den Schnittpunkt der x- und y-Achsen als \\\\( O \\\\).\\n\\n5. **Einzelne Punkte eintragen**:\\n   - Erstellen Sie einen Punkt bei \\\\( A(1, 1) \\\\). Bewegen Sie sich ein Einheitsintervall nach rechts von \\\\( O \\\\) entlang der x-Achse und dann ein weiteres Einheitsintervall aufwärts entlang der y-Achse.\\n   - Zeichnen und beschriften Sie diesen Punkt als \\\\( A \\\\).\\n\\n   - Erstellen Sie einen Punkt für den nächsten Standort \\\\( B(5, 1) \\\\). Bewegen Sie sich fünf Einheitsintervalle nach rechts von \\\\( O \\\\) entlang der x-Achse und bleiben dann auf derselben Höhe.\\n   - Zeichnen und beschriften Sie diesen Punkt als \\\\( B \\\\).\\n\\n   - Erstellen Sie einen Punkt für den letzten Eckpunkt \\\\( C(3, 4) \\\\). Bewegen Sie sich drei Einheiten nach rechts von \\\\( O \\\\) entlang der x-Achse.\\n    Dann bewegen Sie sich vier Einheiten nach oben entlang der y-Achse.\\n   - Zeichnen und beschriften Sie diesen Punkt als \\\\( C \\\\).\\n\\n6. **Koordinaten verbinden**:\\n   - Ziehen Sie eine Linie von \\\\( A(1, 1) \\\\) zu \\\\( B(5, 1) \\\\).\\n   - Verbinden Sie dann \\\\( B(5, 1) \\\\) mit \\\\( C(3, 4) \\\\) durch eine Linie.\\n   - Schließlich ziehen Sie eine Linie von \\\\( C(3, 4) \\\\) zurück zu \\\\( A(1, 1) \\\\).\\n\\nDurch das Befolgen dieser Schritte haben Sie erfolgreich das Dreieck konstruiert und es in ein Koordinatensystem eingetragen.'"
      ]
     },
     "execution_count": 12,
     "metadata": {},
     "output_type": "execute_result"
    }
   ],
   "source": [
    "# Nach Englisch übersetzen\n",
    "translated_solution = translate_solution(final_solution)\n",
    "translated_solution"
   ]
  },
  {
   "cell_type": "code",
   "execution_count": 13,
   "metadata": {},
   "outputs": [],
   "source": [
    "part_1_results = {\n",
    "    \"task_description\": task_description,\n",
    "    \"video_plan\": translated_solution\n",
    "}"
   ]
  },
  {
   "cell_type": "code",
   "execution_count": 14,
   "metadata": {},
   "outputs": [],
   "source": [
    "with open(\"results/part_1_results.json\", \"w\") as f:\n",
    "    json.dump(part_1_results, f)"
   ]
  }
 ],
 "metadata": {
  "kernelspec": {
   "display_name": "Python 3 (ipykernel)",
   "language": "python",
   "name": "python3"
  },
  "language_info": {
   "codemirror_mode": {
    "name": "ipython",
    "version": 3
   },
   "file_extension": ".py",
   "mimetype": "text/x-python",
   "name": "python",
   "nbconvert_exporter": "python",
   "pygments_lexer": "ipython3",
   "version": "3.10.12"
  }
 },
 "nbformat": 4,
 "nbformat_minor": 4
}
