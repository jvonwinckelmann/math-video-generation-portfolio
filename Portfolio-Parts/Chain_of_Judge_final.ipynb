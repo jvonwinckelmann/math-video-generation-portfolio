{
 "cells": [
  {
   "cell_type": "markdown",
   "metadata": {},
   "source": [
    "## Video Planning - Chain of Judge"
   ]
  },
  {
   "cell_type": "markdown",
   "metadata": {},
   "source": [
    "In diesem Projekt greifen wir auf ein neues Konzept zurück, um die Qualität und Effizienz von Lösungen zu verbessern. Wir nutzen zwei Sprachmodelle, einen Generator und einen Critic, um eine Feedback-Schleife zu bilden. Diese Methode basiert auf der sogenannten Self-Consistency mit Feedback-Schleife oder Critic-and-Generator-Framework, die es ermöglicht, sowohl die Qualität der Lösung als auch ihre Erklärbarkeit zu erhöhen.\n",
    "\n",
    "\n",
    "Der Generator-Modell erstellt eine Lösung und gibt dabei durch Chain-of-Thought Prompting eine schrittweise Erklärung ab. Der Critic-Modell bewertet den Vorschlag des Generators und identifiziert mögliche Schwächen oder Fehler. Dieser Prozess wiederholt sich in einer Feedback-Schleife, wodurch der Generator seine Lösung kontinuierlich verbessern kann.\n",
    "\n",
    "\n",
    "Diese innovative Methode bietet mehrere Vorteile: Sie ermöglicht eine Qualitätskontrolle durch den Critic, schrittweise Optimierung des Generators und erhöhte Erklärbarkeit durch Chain-of-Thought-Prompting. Darüber hinaus ist sie flexibel und anpassbar für verschiedene Aufgaben und Anwendungsfälle.\n",
    "\n",
    "\n",
    "In den folgenden Abschnitten wird aufgezeigt, wie diese Methode umgesetzt wird und welche Vorteile sie bietet. Wir werden uns auf die Implementierung des Generators und Critic-Modells konzentrieren, sowie auf die Ergebnisse der Feedback-Schleife und die daraus gewonnenen Erkenntnisse."
   ]
  },
  {
   "cell_type": "markdown",
   "metadata": {},
   "source": [
    "### Aufgabe\n",
    "\n",
    "Zeichne den Punkt P(4|6) in ein Koordinatensystem ein.\n",
    "\n",
    "### Soll Lösung\n",
    "\n",
    "1. Zeichne ein Koordinatensystem mit einer x-Achse und einer y-Achse, damit beide der Punkt im Koordinatensystem liegt <br>\n",
    "\t\tAchte darauf, die Achsen zu beschriften und eine regelmäßige Skalierung zu verwenden. <br>\n",
    "2. Markiere den Ursprung (0, 0) des Koordinatensystems deutlich.<br>\n",
    "3. Zeichne einen Vektor in x-Richtung, der von (0, 0) bis zum X Punkt reicht (x,  0). <br>\n",
    "\t\tNutze eine klare Farbe wie Rot, um diesen Vektor zu kennzeichnen. <br>\n",
    "4. Zeichne einen Vektor in y-Richtung, der von (0, 0) bis zum Y Punkt reicht (0, y). <br>\n",
    "\t\tVerwende eine andere Farbe, z. B. Grün. <br>\n",
    "5. Verschiebe den y-Richtungs-Vektor so, dass sein Startpunkt das Ende des x-Richtungs-Vektors bei (x, 0) ist. <br>\n",
    "6. Der Endpunkt dieses verschobenen Vektors markiert die Koordinaten (x, y).  <br>\n",
    "\t\tZeichne einen Punkt an dieser Stelle und beschrifte ihn mit 'P({x-Wert}|{y-Wert})'. <br>\n",
    "7. Füge ggf. Beschriftungen oder zusätzliche Hinweise hinzu, um die Schritte der Konstruktion verständlicher zu machen. <br>"
   ]
  },
  {
   "cell_type": "code",
   "execution_count": null,
   "metadata": {},
   "outputs": [],
   "source": [
    "from openai import OpenAI\n",
    "\n",
    "# Verbindung zum Ollama-Server herstellen\n",
    "client = OpenAI(\n",
    "    base_url='http://localhost:11434/v1',\n",
    "    api_key='ollama',\n",
    ")"
   ]
  },
  {
   "cell_type": "code",
   "execution_count": null,
   "metadata": {},
   "outputs": [],
   "source": [
    "# Generator-Modell\n",
    "def generate_visual_steps(task_description):\n",
    "    response = client.chat.completions.create(\n",
    "        model=\"phi4\",\n",
    "        messages=[\n",
    "            {\"role\": \"system\", \"content\": (\n",
    "                \"Du bist ein Sprachmodell, das Mathematikaufgaben in präzise, nummerierte Schritte zerlegt, \"\n",
    "                \"die leicht visuell dargestellt werden können. Gib die Antwort als eine Schritt-für-Schritt-Liste zurück, \"\n",
    "                \"beginnend mit '1.', '2.', usw. Jede Nummer sollte einen klar definierten Schritt enthalten.\"\n",
    "            )},\n",
    "            {\"role\": \"user\", \"content\": task_description},\n",
    "        ]\n",
    "    )\n",
    "    return response.choices[0].message.content "
   ]
  },
  {
   "cell_type": "code",
   "execution_count": null,
   "metadata": {},
   "outputs": [],
   "source": [
    "# Bewertungsmodell\n",
    "def evaluate_solution(task_description, generated_solution):\n",
    "    response = client.chat.completions.create(\n",
    "        model=\"phi4\",\n",
    "        messages=[\n",
    "            {\"role\": \"system\", \"content\": (\n",
    "                \"Du bist ein Sprachmodell, das Lösungen für Mathematikaufgaben bewertet. \"\n",
    "                \"Bewerte die Lösung nicht nur auf Korrektheit, sondern auch darauf, ob sie die folgenden Kriterien erfüllt:\\n\"\n",
    "                \"1. Die Lösung muss als nummerierte Schritt-für-Schritt-Anleitung vorliegen.\\n\"\n",
    "                \"2. Die Schritte müssen klar und präzise formuliert sein.\\n\"\n",
    "                \"3. Begriffe wie 'Koordinatensystem', 'x-Achse', 'y-Achse', 'Vektor' sollten verwendet werden, \"\n",
    "                \"wenn sie für die Aufgabe relevant sind.\\n\"\n",
    "                \"Antworte mit einer kurzen Bewertung und sage klar, ob die Lösung akzeptiert wird oder nicht.\"\n",
    "            )},\n",
    "            {\"role\": \"user\", \"content\": f\"Aufgabe:\\n{task_description}\\n\\nLösung:\\n{generated_solution}\"},\n",
    "        ]\n",
    "    )\n",
    "    return response.choices[0].message.content"
   ]
  },
  {
   "cell_type": "code",
   "execution_count": null,
   "metadata": {},
   "outputs": [],
   "source": [
    "# Chain-of-Judge\n",
    "def interactive_solution(task_description, max_iterations=2):\n",
    "    iteration = 0\n",
    "    solution = generate_visual_steps(task_description)\n",
    "    final_solution = None  \n",
    "    print(f\"Iteration {iteration + 1} - Generierte Lösung:\\n{solution}\")\n",
    "    \n",
    "    while iteration < max_iterations:\n",
    "        evaluation = evaluate_solution(task_description, solution)\n",
    "        print(f\"Iteration {iteration + 1} - Bewertung der Lösung:\\n{evaluation}\")\n",
    "        \n",
    "        if \"akzeptiert\" in evaluation.lower() and \"nummeriert\" in evaluation.lower():\n",
    "            print(\"Lösung akzeptiert!\")\n",
    "            final_solution = solution\n",
    "            break\n",
    "        else:\n",
    "            iteration += 1\n",
    "            if iteration < max_iterations:\n",
    "                print(f\"Neue Iteration {iteration + 1}: Verbesserung der Lösung...\")\n",
    "                solution = generate_visual_steps(task_description)\n",
    "                print(f\"Iteration {iteration + 1} - Neue generierte Lösung:\\n{solution}\")\n",
    "            else:\n",
    "                print(\"Maximale Anzahl an Iterationen erreicht. Keine weiteren Verbesserungen möglich.\")\n",
    "    \n",
    "    if final_solution is None:\n",
    "        final_solution = solution\n",
    "    return final_solution  "
   ]
  },
  {
   "cell_type": "code",
   "execution_count": null,
   "metadata": {},
   "outputs": [],
   "source": [
    "# Beispielaufgabe\n",
    "task_description = \"Zeichne den Punkt P(4|6) in ein Koordinatensystem ein.\"\n",
    "\n",
    "# Ablauf mit maximal 2 Iterationen starten\n",
    "final_solution = interactive_solution(task_description)"
   ]
  }
 ],
 "metadata": {
  "language_info": {
   "name": "python"
  }
 },
 "nbformat": 4,
 "nbformat_minor": 2
}
