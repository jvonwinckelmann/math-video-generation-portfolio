{
 "cells": [
  {
   "cell_type": "markdown",
   "metadata": {},
   "source": [
    "# Chain of judge"
   ]
  },
  {
   "cell_type": "code",
   "execution_count": null,
   "metadata": {},
   "outputs": [],
   "source": [
    "def generate_visual_steps(task_description):\n",
    "    response = client.chat.completions.create(\n",
    "        model=\"phi4\",  # Generator-Modell\n",
    "        messages=[\n",
    "            {\"role\": \"system\", \"content\": (\n",
    "                \"Du bist ein Sprachmodell, das Mathematikaufgaben in präzise, nummerierte Schritte zerlegt, \"\n",
    "                \"die leicht visuell dargestellt werden können. Gib die Antwort als eine Schritt-für-Schritt-Liste zurück, \"\n",
    "                \"beginnend mit '1.', '2.', usw. Jede Nummer sollte einen klar definierten Schritt enthalten.\"\n",
    "            )},\n",
    "            {\"role\": \"user\", \"content\": task_description},\n",
    "        ]\n",
    "    )\n",
    "    return response.choices[0].message.content "
   ]
  },
  {
   "cell_type": "code",
   "execution_count": null,
   "metadata": {},
   "outputs": [],
   "source": [
    "def evaluate_solution(task_description, generated_solution):\n",
    "    response = client.chat.completions.create(\n",
    "        model=\"phi4\",  # Bewertungsmodell\n",
    "        messages=[\n",
    "            {\"role\": \"system\", \"content\": (\n",
    "                \"Du bist ein Sprachmodell, das Lösungen für Mathematikaufgaben bewertet. \"\n",
    "                \"Bewerte die Lösung nicht nur auf Korrektheit, sondern auch darauf, ob sie die folgenden Kriterien erfüllt:\\n\"\n",
    "                \"1. Die Lösung muss als nummerierte Schritt-für-Schritt-Anleitung vorliegen.\\n\"\n",
    "                \"2. Die Schritte müssen klar und präzise formuliert sein.\\n\"\n",
    "                \"3. Begriffe wie 'Koordinatensystem', 'x-Achse', 'y-Achse', 'Vektor' sollten verwendet werden, \"\n",
    "                \"wenn sie für die Aufgabe relevant sind.\\n\"\n",
    "                \"Antworte mit einer kurzen Bewertung und sage klar, ob die Lösung akzeptiert wird oder nicht.\"\n",
    "            )},\n",
    "            {\"role\": \"user\", \"content\": f\"Aufgabe:\\n{task_description}\\n\\nLösung:\\n{generated_solution}\"},\n",
    "        ]\n",
    "    )\n",
    "    return response.choices[0].message.content"
   ]
  },
  {
   "cell_type": "code",
   "execution_count": null,
   "metadata": {},
   "outputs": [],
   "source": [
    "def interactive_solution(task_description, max_iterations=2):\n",
    "    iteration = 0\n",
    "    solution = generate_visual_steps(task_description)\n",
    "    final_solution = None  \n",
    "    print(f\"Iteration {iteration + 1} - Generierte Lösung:\\n{solution}\")\n",
    "    \n",
    "    while iteration < max_iterations:\n",
    "        evaluation = evaluate_solution(task_description, solution)\n",
    "        print(f\"Iteration {iteration + 1} - Bewertung der Lösung:\\n{evaluation}\")\n",
    "        \n",
    "        if \"akzeptiert\" in evaluation.lower() and \"nummeriert\" in evaluation.lower():\n",
    "            print(\"Lösung akzeptiert!\")\n",
    "            final_solution = solution\n",
    "            break\n",
    "        else:\n",
    "            iteration += 1\n",
    "            if iteration < max_iterations:\n",
    "                print(f\"Neue Iteration {iteration + 1}: Verbesserung der Lösung...\")\n",
    "                solution = generate_visual_steps(task_description)\n",
    "                print(f\"Iteration {iteration + 1} - Neue generierte Lösung:\\n{solution}\")\n",
    "            else:\n",
    "                print(\"Maximale Anzahl an Iterationen erreicht. Keine weiteren Verbesserungen möglich.\")\n",
    "    \n",
    "    if final_solution is None:\n",
    "        final_solution = solution\n",
    "    return final_solution  "
   ]
  },
  {
   "cell_type": "code",
   "execution_count": null,
   "metadata": {},
   "outputs": [],
   "source": [
    "# Beispielaufgabe\n",
    "task_description = \"Zeichne den Punkt P(4|6) in ein Koordinatensystem ein.\"\n",
    "\n",
    "# Ablauf mit maximal 2 Iterationen starten\n",
    "final_solution = interactive_solution(task_description)"
   ]
  }
 ],
 "metadata": {
  "language_info": {
   "name": "python"
  }
 },
 "nbformat": 4,
 "nbformat_minor": 2
}
